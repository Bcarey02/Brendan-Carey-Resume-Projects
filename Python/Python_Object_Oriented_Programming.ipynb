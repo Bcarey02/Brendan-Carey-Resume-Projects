{
 "cells": [
  {
   "cell_type": "markdown",
   "metadata": {},
   "source": [
    "Python is an object-oriented programming language.\n",
    "\n",
    "An object is item that contains data (attributes) and possibly has code that can be executed on the data (methods).\n",
    "\n",
    "Integers, Float, Strings, Lists, etc. are all objects in Python."
   ]
  },
  {
   "cell_type": "code",
   "execution_count": null,
   "metadata": {},
   "outputs": [],
   "source": []
  },
  {
   "cell_type": "markdown",
   "metadata": {
    "collapsed": true
   },
   "source": [
    "Let's create our own objects for a game that we are thinking about creating.\n",
    "\n",
    "We will first need an object to represent the player. This object will hold the data for the player (health, gold, etc) and will have a set of methods that can be executed (run, attack, heal, etc).\n",
    "\n"
   ]
  },
  {
   "cell_type": "code",
   "execution_count": null,
   "metadata": {},
   "outputs": [],
   "source": []
  },
  {
   "cell_type": "markdown",
   "metadata": {},
   "source": [
    "To create an object we first need a \"blueprint\" for that object. This blueprint is called a class.\n",
    "\n",
    "To create a class we use the **class** keyword followed by the name of the class and then a colon. The name of the class is typically placed in uppercase letters."
   ]
  },
  {
   "cell_type": "code",
   "execution_count": null,
   "metadata": {},
   "outputs": [],
   "source": []
  },
  {
   "cell_type": "code",
   "execution_count": 1,
   "metadata": {},
   "outputs": [],
   "source": [
    "# Here is the Player class\n",
    "# It needs at least one statement or declaration in the class body\n",
    "\n",
    "# For now we will use the pass statement which does nothing in Python\n",
    "\n",
    "class Player:\n",
    "    pass    # pass does nothing in Python"
   ]
  },
  {
   "cell_type": "code",
   "execution_count": null,
   "metadata": {},
   "outputs": [],
   "source": []
  },
  {
   "cell_type": "code",
   "execution_count": 2,
   "metadata": {},
   "outputs": [],
   "source": [
    "# To create a Player object from this \"blueprint\" \n",
    "# we invoke the class name like a function\n",
    "\n",
    "p1=Player()\n",
    "p2=Player()\n",
    "\n",
    "# The above creates two Player objects\n",
    "\n",
    "# one is stored in the variable p1 and the other p2"
   ]
  },
  {
   "cell_type": "code",
   "execution_count": null,
   "metadata": {},
   "outputs": [],
   "source": []
  },
  {
   "cell_type": "code",
   "execution_count": 3,
   "metadata": {},
   "outputs": [
    {
     "name": "stdout",
     "output_type": "stream",
     "text": [
      "<class '__main__.Player'>\n",
      "<class '__main__.Player'>\n"
     ]
    }
   ],
   "source": [
    "# We can verify that they are Player objects\n",
    "\n",
    "print(type(p1))\n",
    "print(type(p2))"
   ]
  },
  {
   "cell_type": "code",
   "execution_count": null,
   "metadata": {},
   "outputs": [],
   "source": []
  },
  {
   "cell_type": "code",
   "execution_count": 4,
   "metadata": {},
   "outputs": [],
   "source": [
    "# Lets modify the class so that it prints the\n",
    "# phrase \"Player Object Created\" when execute\n",
    "\n",
    "# We can do this by adding an __init__ method (function)\n",
    "\n",
    "class Player:\n",
    "    def __init__(self):\n",
    "        print(\"Player Object Created\")\n"
   ]
  },
  {
   "cell_type": "code",
   "execution_count": null,
   "metadata": {},
   "outputs": [],
   "source": []
  },
  {
   "cell_type": "code",
   "execution_count": 5,
   "metadata": {},
   "outputs": [
    {
     "name": "stdout",
     "output_type": "stream",
     "text": [
      "Player Object Created\n",
      "Player Object Created\n"
     ]
    }
   ],
   "source": [
    "# Now lets recreate the two Player objects:\n",
    "\n",
    "p1=Player()\n",
    "p2=Player()"
   ]
  },
  {
   "cell_type": "code",
   "execution_count": null,
   "metadata": {},
   "outputs": [],
   "source": []
  },
  {
   "cell_type": "markdown",
   "metadata": {
    "collapsed": true
   },
   "source": [
    "Note that self is the first parameter (argument) to the __init__\n",
    "method (function). \n",
    "\n",
    "Self provides a reference or pointer to the object in question - essentially the location in memory where the information about this object is stored.\n"
   ]
  },
  {
   "cell_type": "code",
   "execution_count": null,
   "metadata": {},
   "outputs": [],
   "source": []
  },
  {
   "cell_type": "markdown",
   "metadata": {},
   "source": [
    "Each player in our game has associated data - ___health___ and ___gender___.\n",
    "\n",
    "Named values (variables) associated with an instance of an\n",
    "object are called instance variables, attributes or object variables."
   ]
  },
  {
   "cell_type": "code",
   "execution_count": null,
   "metadata": {},
   "outputs": [],
   "source": []
  },
  {
   "cell_type": "code",
   "execution_count": 6,
   "metadata": {},
   "outputs": [
    {
     "name": "stdout",
     "output_type": "stream",
     "text": [
      "Player Object Created F 110\n",
      "Player Object Created M 100\n"
     ]
    }
   ],
   "source": [
    "# Sometimes we want attributes to be \n",
    "# set when the object is created.\n",
    "\n",
    "# The values can be passed in the initial call\n",
    "# to the class and then assigned in the init method.\n",
    "\n",
    "class Player:\n",
    " def __init__(self,gender,health):\n",
    "    self.gender=gender\n",
    "    self.health=health\n",
    "    print(\"Player Object Created\",self.gender,self.health)\n",
    "\n",
    "p1=Player(\"F\",110)\n",
    "p2=Player(\"M\",100)\n"
   ]
  },
  {
   "cell_type": "code",
   "execution_count": null,
   "metadata": {},
   "outputs": [],
   "source": []
  },
  {
   "cell_type": "code",
   "execution_count": 7,
   "metadata": {},
   "outputs": [
    {
     "name": "stdout",
     "output_type": "stream",
     "text": [
      "110\n",
      "F\n",
      "100\n",
      "M\n"
     ]
    }
   ],
   "source": [
    "# Once an object is created you can\n",
    "# access its attributes by using the dot notation \n",
    "# as shown below\n",
    "\n",
    "print(p1.health)\n",
    "print(p1.gender)\n",
    "print(p2.health)\n",
    "print(p2.gender)"
   ]
  },
  {
   "cell_type": "code",
   "execution_count": null,
   "metadata": {},
   "outputs": [],
   "source": [
    " "
   ]
  },
  {
   "cell_type": "code",
   "execution_count": 8,
   "metadata": {},
   "outputs": [
    {
     "name": "stdout",
     "output_type": "stream",
     "text": [
      "200\n",
      "60\n"
     ]
    }
   ],
   "source": [
    "# You can also modify the values in an object\n",
    "\n",
    "p1.health=200\n",
    "\n",
    "p2.health=p2.health-40\n",
    "\n",
    "print(p1.health)\n",
    "\n",
    "print(p2.health) "
   ]
  },
  {
   "cell_type": "code",
   "execution_count": null,
   "metadata": {},
   "outputs": [],
   "source": []
  },
  {
   "cell_type": "markdown",
   "metadata": {},
   "source": [
    "Due to the two underscores surrounding the ___init___ method this function is referred to as the dunder (double underscore) init method. "
   ]
  },
  {
   "cell_type": "code",
   "execution_count": null,
   "metadata": {},
   "outputs": [],
   "source": []
  },
  {
   "cell_type": "markdown",
   "metadata": {
    "collapsed": true
   },
   "source": [
    "Functions defined inside class are called methods."
   ]
  },
  {
   "cell_type": "code",
   "execution_count": null,
   "metadata": {},
   "outputs": [],
   "source": []
  },
  {
   "cell_type": "markdown",
   "metadata": {
    "collapsed": true
   },
   "source": [
    "We want to add a method named ***playerHurt*** that has a parameter (argument)\n",
    "named damage (a number). The method should subtract the damage from the instance \n",
    "variable named health. \n",
    "\n",
    "Just to check that everything is working print out both the\n",
    "damage argument and the new health value within the method.\n",
    "\n",
    "All methods should have **self** as the first argument. \n",
    "This parameter is automatically passed to the method by Python. \n",
    "\n",
    "The **self** value essentially provides the location, in memory, where the data for this specific object is - since we can have multiple objects generated from the same class.\n",
    "<pre>\n",
    "Test the code with the following method calls:\n",
    "\n",
    "p1.playerHurt(20)\n",
    "p2.playerHurt(10.5)\n",
    "</pre>"
   ]
  },
  {
   "cell_type": "code",
   "execution_count": null,
   "metadata": {},
   "outputs": [],
   "source": []
  },
  {
   "cell_type": "code",
   "execution_count": 10,
   "metadata": {},
   "outputs": [
    {
     "name": "stdout",
     "output_type": "stream",
     "text": [
      "Player Object Created F 110\n",
      "Player Object Created M 100\n",
      "Damage= 20 New Health= 90\n",
      "Damage= 10.5 New Health= 89.5\n"
     ]
    }
   ],
   "source": [
    "class Player:\n",
    "    def __init__(self,gender,health):\n",
    "        self.gender=gender\n",
    "        self.health=health\n",
    "        print(\"Player Object Created\",self.gender,self.health)\n",
    "\n",
    "    def playerHurt(self,damage):\n",
    "        self.health=self.health-damage\n",
    "        print(\"Damage=\",damage,\"New Health=\",self.health)\n",
    "\n",
    "p1=Player(\"F\",110)\n",
    "p2=Player(\"M\",100)\n",
    "p1.playerHurt(20)\n",
    "p2.playerHurt(10.5)\n"
   ]
  },
  {
   "cell_type": "code",
   "execution_count": null,
   "metadata": {},
   "outputs": [],
   "source": []
  },
  {
   "cell_type": "code",
   "execution_count": null,
   "metadata": {},
   "outputs": [],
   "source": []
  },
  {
   "cell_type": "markdown",
   "metadata": {},
   "source": [
    "### Exercise #1\n",
    "\n",
    "Add a method named ***isDead***. It should have no arguments except self) and\n",
    "return True if the health attribute is 0 or below\n",
    "otherwise it returns False."
   ]
  },
  {
   "cell_type": "code",
   "execution_count": null,
   "metadata": {},
   "outputs": [],
   "source": [
    "# Answer Exercise #1\n",
    "class Player:\n",
    "    def __init__(self,gender,health):\n",
    "        self.gender=gender\n",
    "        self.health=health\n",
    "        print(\"Player Object Created\",self.gender,self.health)\n",
    "\n",
    "    def playerHurt(self,damage):\n",
    "        self.health=self.health-damage\n",
    "        print(\"Damage=\",damage,\"New Health=\",self.health)\n",
    "        \n",
    "    def isdead(self):\n",
    "        if self.health <=0:\n",
    "            return True\n",
    "        else:\n",
    "            return False\n",
    "\n",
    "p1=Player(\"F\",110)\n",
    "p2=Player(\"M\",100)\n",
    "p1.playerHurt(20)\n",
    "p2.playerHurt(10.5)"
   ]
  },
  {
   "cell_type": "code",
   "execution_count": null,
   "metadata": {},
   "outputs": [],
   "source": []
  },
  {
   "cell_type": "markdown",
   "metadata": {},
   "source": [
    "### Exercise #2\n",
    "\n",
    "Add three arguments to the init function - ***name***, ***defaultWeapon*** and ***credits***.\n",
    "\n",
    "These arguments should be assigned as object attributes within the __init__ method (e.g. self.name=name)\n",
    "\n",
    "name and defaultWeapon are strings and credits is a real (floating pt) number"
   ]
  },
  {
   "cell_type": "code",
   "execution_count": 13,
   "metadata": {},
   "outputs": [
    {
     "name": "stdout",
     "output_type": "stream",
     "text": [
      "Player Object Created F 110\n",
      "Player Object Created M 300\n",
      "Damage= 20 New Health= 90\n",
      "Damage= 10.5 New Health= 289.5\n"
     ]
    }
   ],
   "source": [
    "# Answer Exercise #2\n",
    "class Player:\n",
    "    def __init__(self,gender,health,name, defaultWeapon, credits):\n",
    "        self.gender=gender\n",
    "        self.health=health\n",
    "        self.name=name\n",
    "        self.defaultWeapon=defaultWeapon\n",
    "        self.credits=credits\n",
    "        print(\"Player Object Created\",self.gender,self.health)\n",
    "\n",
    "    def playerHurt(self,damage):\n",
    "        self.health=self.health-damage\n",
    "        print(\"Damage=\",damage,\"New Health=\",self.health)\n",
    "        \n",
    "    def isdead(self):\n",
    "        if self.health <=0:\n",
    "            return True\n",
    "        else:\n",
    "            return False\n",
    "\n",
    "p1=Player(\"F\",110,\"mary\",\"sword\", 500)\n",
    "p2=Player(\"M\",300,\"Carlos\",\"lance\", 400)\n",
    "p1.playerHurt(20)\n",
    "p2.playerHurt(10.5)"
   ]
  },
  {
   "cell_type": "code",
   "execution_count": null,
   "metadata": {},
   "outputs": [],
   "source": []
  },
  {
   "cell_type": "markdown",
   "metadata": {},
   "source": [
    "### Exercise #3\n",
    "\n",
    "Add a method named ***healthString*** that returns one of the\n",
    "following strings based on the health instance (object) variable value\n",
    "\n",
    "\"Healthy\" if health is >=80\n",
    "\n",
    "\"Stable\" if health is >=70 and <80\n",
    "\n",
    "\"Weak\"  if health is >=60 and <70\n",
    "\n",
    "\"Critical\" if health is >0 and <60\n",
    "\n",
    "\"Dead\" if health <=0\n"
   ]
  },
  {
   "cell_type": "code",
   "execution_count": 14,
   "metadata": {},
   "outputs": [
    {
     "name": "stdout",
     "output_type": "stream",
     "text": [
      "Player Object Created F 500\n",
      "Player Object Created M 400\n",
      "Damage= 20 New Health= 480\n",
      "Damage= 10.5 New Health= 389.5\n",
      "Healthy\n",
      "Healthy\n"
     ]
    }
   ],
   "source": [
    "# Answer Exercise #3\n",
    "class Player:\n",
    "    def __init__(self,gender,name,defaultWeapon, credits,health):\n",
    "        self.gender=gender\n",
    "        self.health=health\n",
    "        self.name=name\n",
    "        self.defualtWeapon=defaultWeapon\n",
    "        self.credits=credits\n",
    "        print(\"Player Object Created\",self.gender,self.health)\n",
    "\n",
    "    def playerHurt(self,damage):\n",
    "        self.health=self.health-damage\n",
    "        print(\"Damage=\",damage,\"New Health=\",self.health)\n",
    "        \n",
    "    def isDead(self):\n",
    "        if self.health<=0:\n",
    "            return True\n",
    "        else:\n",
    "            return False\n",
    "        \n",
    "    def healthString(self):\n",
    "        if self.health >=80: \n",
    "            return \"Healthy\"\n",
    "        elif self.health >=70: \n",
    "            return \"stable\"\n",
    "        elif self.health >=60: \n",
    "            return \"weak\"\n",
    "        elif self.health >=0:\n",
    "            return \"critical\"\n",
    "        else: \n",
    "            return \"dead\"\n",
    "        \n",
    "p1=Player(\"F\",110, \"mary\",\"sword\", 500)\n",
    "p2=Player(\"M\",100, \"Carlos\",\"lance\", 400)\n",
    "p1.playerHurt(20)\n",
    "p2.playerHurt(10.5)\n",
    "print(p1.healthString())\n",
    "print(p2.healthString())\n"
   ]
  },
  {
   "cell_type": "code",
   "execution_count": null,
   "metadata": {},
   "outputs": [],
   "source": []
  },
  {
   "cell_type": "markdown",
   "metadata": {},
   "source": [
    "### Exercise #4\n",
    "\n",
    "\n",
    "Outside the class definition, create a list named ***players*** that contains three player objects. \n",
    "\n",
    "Then, directly under this list definition, write a for-loop that prints every players ***name***, ***health*** and the string returned by the ***healthString*** method call. \n"
   ]
  },
  {
   "cell_type": "code",
   "execution_count": 15,
   "metadata": {},
   "outputs": [
    {
     "name": "stdout",
     "output_type": "stream",
     "text": [
      "Player Object Created F 500\n",
      "Player Object Created M 400\n",
      "Player Object Created M 400\n"
     ]
    }
   ],
   "source": [
    "# Answer Exercise #4\n",
    "class Player:\n",
    "    def __init__(self,gender,name,defaultWeapon, credits,health):\n",
    "        self.gender=gender\n",
    "        self.health=health\n",
    "        self.name=name\n",
    "        self.defualtWeapon=defaultWeapon\n",
    "        self.credits=credits\n",
    "        print(\"Player Object Created\",self.gender,self.health)\n",
    "\n",
    "    def playerHurt(self,damage):\n",
    "        self.health=self.health-damage\n",
    "        print(\"Damage=\",damage,\"New Health=\",self.health)\n",
    "        \n",
    "    def isDead(self):\n",
    "        if self.health<=0:\n",
    "            return True\n",
    "        else:\n",
    "            return False\n",
    "        \n",
    "    def healthString(self):\n",
    "        if self.health >=80: \n",
    "            return \"Healthy\"\n",
    "        elif self.health >=70: \n",
    "            return \"stable\"\n",
    "        elif self.health >=60: \n",
    "            return \"weak\"\n",
    "        elif self.health >=0:\n",
    "            return \"critical\"\n",
    "        else: \n",
    "            return \"dead\"\n",
    "      \n",
    "p1=Player(\"F\",110, \"mary\",\"sword\", 500)\n",
    "p2=Player(\"M\",100, \"Carlos\",\"lance\", 400)\n",
    "p3=Player(\"M\",100, \"Dan\",\"crossbow\", 400)\n",
    "players = [p1,p2,p3]"
   ]
  },
  {
   "cell_type": "code",
   "execution_count": null,
   "metadata": {},
   "outputs": [],
   "source": []
  },
  {
   "cell_type": "markdown",
   "metadata": {},
   "source": [
    "### Exercise #5\n",
    "\n",
    "Write a method named ***attack*** that accepts another player object named ***target***\n",
    "as an argument. \n",
    "\n",
    "The method should use the __random.randint__ function (you will need to import random) to generate a number - either 1 or 2 (use random.randint(1,2)). \n",
    "\n",
    "If the random integer is 1, then the attack succeeded and you should invoke\n",
    "the __playerHurt__ method on the target object with a random \n",
    "integer argument between 5 and 20 (use random.randint(5,20)). \n",
    "\n",
    "If the initial random integer is 2, then the attack didn't succeed so the player is not injured.\n",
    "\n",
    "The method should print the name of the attacking player, the target, \n",
    "the result (succeed or failed) and any damage\n"
   ]
  },
  {
   "cell_type": "code",
   "execution_count": 18,
   "metadata": {},
   "outputs": [
    {
     "name": "stdout",
     "output_type": "stream",
     "text": [
      "Player Object Created F 500\n",
      "Player Object Created M 400\n",
      "Player Object Created M 400\n",
      "Damage= 14 New Health= 386\n",
      "110 <<<ATTACKS>>> 100\n",
      "attack Succeded - results= 14 damage\n",
      "100 <<<ATTACKS>>> 100\n",
      "Attack Failed - Results=0 damage\n"
     ]
    }
   ],
   "source": [
    "# Answer Exercise #5\n",
    "import random\n",
    "\n",
    "class Player:\n",
    "    def __init__(self,gender,name,defaultWeapon, credits,health):\n",
    "        self.gender=gender\n",
    "        self.health=health\n",
    "        self.name=name\n",
    "        self.defualtWeapon=defaultWeapon\n",
    "        self.credits=credits\n",
    "        print(\"Player Object Created\",self.gender,self.health)\n",
    "\n",
    "    def playerHurt(self,damage):\n",
    "        self.health=self.health-damage\n",
    "        print(\"Damage=\",damage,\"New Health=\",self.health)\n",
    "        \n",
    "    def isDead(self):\n",
    "        if self.health<=0:\n",
    "            return True\n",
    "        else:\n",
    "            return False\n",
    "        \n",
    "    def healthString(self):\n",
    "        if self.health >=80: \n",
    "            return \"Healthy\"\n",
    "        elif self.health >=70: \n",
    "            return \"stable\"\n",
    "        elif self.health >=60: \n",
    "            return \"weak\"\n",
    "        elif self.health >=0:\n",
    "            return \"critical\"\n",
    "        else: \n",
    "            return \"dead\"\n",
    "    \n",
    "    def attack(self,target):\n",
    "        if random.randint(1,2)==1:\n",
    "            h=random.randint(5,20)\n",
    "            target.playerHurt(h)\n",
    "            print(self.name,\"<<<ATTACKS>>>\", target.name)\n",
    "            print(\"attack Succeded - results=\",h,\"damage\")\n",
    "        else:\n",
    "            print(self.name,\"<<<ATTACKS>>>\", target.name)\n",
    "            print(\"Attack Failed - Results=0 damage\")\n",
    "        \n",
    "p1=Player(\"F\",110, \"mary\",\"sword\", 500)\n",
    "p2=Player(\"M\",100, \"Carlos\",\"lance\", 400)\n",
    "p3=Player(\"M\",100, \"Dan\",\"crossbow\", 400)\n",
    "p1.attack(p3)\n",
    "p2.attack(p3)\n",
    "players = [p1,p2,p3]"
   ]
  },
  {
   "cell_type": "code",
   "execution_count": null,
   "metadata": {},
   "outputs": [],
   "source": []
  },
  {
   "cell_type": "markdown",
   "metadata": {},
   "source": [
    "### Exercise #6\n",
    "\n",
    "Outside of the object definition, write the code needed to randomly select one player from the players\n",
    "list (this will be the attacker) and another player from the player list (which will be the target).\n",
    "\n",
    "You can use the ___random.sample()___ function to choose two unique \n",
    "players from the players list.\n",
    "\n",
    "For example random.sample([1,2,3],2) will return a LIST of \n",
    "two random elements from [1,2,3]\n",
    "\n",
    "Make the first element of the returned list the attacker and \n",
    "the second the target then have the attacker object call \n",
    "***attack*** method with the target as the argument.\n"
   ]
  },
  {
   "cell_type": "code",
   "execution_count": 22,
   "metadata": {},
   "outputs": [
    {
     "name": "stdout",
     "output_type": "stream",
     "text": [
      "Player Object Created F 500\n",
      "Player Object Created M 400\n",
      "Player Object Created M 400\n",
      "Damage= 11 New Health= 389\n",
      "110 <<<ATTACKS>>> 100\n",
      "attack Succeded - results= 11 damage\n",
      "Damage= 16 New Health= 373\n",
      "100 <<<ATTACKS>>> 100\n",
      "attack Succeded - results= 16 damage\n",
      "Damage= 9 New Health= 364\n",
      "110 <<<ATTACKS>>> 100\n",
      "attack Succeded - results= 9 damage\n",
      "110 Healthy\n",
      "110 Healthy\n"
     ]
    }
   ],
   "source": [
    "# Answer Exercise #6\n",
    "import random\n",
    "\n",
    "class Player:\n",
    "    def __init__(self,gender,name,defaultWeapon, credits,health):\n",
    "        self.gender=gender\n",
    "        self.health=health\n",
    "        self.name=name\n",
    "        self.defualtWeapon=defaultWeapon\n",
    "        self.credits=credits\n",
    "        print(\"Player Object Created\",self.gender,self.health)\n",
    "\n",
    "    def playerHurt(self,damage):\n",
    "        self.health=self.health-damage\n",
    "        print(\"Damage=\",damage,\"New Health=\",self.health)\n",
    "        \n",
    "    def isDead(self):\n",
    "        if self.health<=0:\n",
    "            return True\n",
    "        else:\n",
    "            return False\n",
    "        \n",
    "    def healthString(self):\n",
    "        if self.health >=80: \n",
    "            return \"Healthy\"\n",
    "        elif self.health >=70: \n",
    "            return \"stable\"\n",
    "        elif self.health >=60: \n",
    "            return \"weak\"\n",
    "        elif self.health >=0:\n",
    "            return \"critical\"\n",
    "        else: \n",
    "            return \"dead\"\n",
    "    \n",
    "    def attack(self,target):\n",
    "        if random.randint(1,2)==1:\n",
    "            h=random.randint(5,20)\n",
    "            target.playerHurt(h)\n",
    "            print(self.name,\"<<<ATTACKS>>>\", target.name)\n",
    "            print(\"attack Succeded - results=\",h,\"damage\")\n",
    "        else:\n",
    "            print(self.name,\"<<<ATTACKS>>>\", target.name)\n",
    "            print(\"Attack Failed - Results=0 damage\")\n",
    "\n",
    "        \n",
    "p1=Player(\"F\",110, \"mary\",\"sword\", 500)\n",
    "p2=Player(\"M\",100, \"Carlos\",\"lance\", 400)\n",
    "p3=Player(\"M\",100, \"Dan\",\"crossbow\", 400)\n",
    "p1.attack(p3)\n",
    "p2.attack(p3)\n",
    "players = [p1,p2,p3]\n",
    "\n",
    "m=random.sample(players,2)\n",
    "a=m[0] #attacker\n",
    "t=m[1] #target\n",
    "a.attack(t)\n",
    "print(a.name,a.healthString())\n",
    "print(a.name,t.healthString())"
   ]
  },
  {
   "cell_type": "code",
   "execution_count": null,
   "metadata": {},
   "outputs": [],
   "source": []
  },
  {
   "cell_type": "markdown",
   "metadata": {},
   "source": [
    "### Exercise #7\n",
    "\n",
    "Wrap the code you added for exercise #6 in a for-loop that runs the code for six iterations - this can be done with a range function.\n",
    "\n",
    "At the bottom of your program write the code needed to display the string returned by the healthString method for each player."
   ]
  },
  {
   "cell_type": "code",
   "execution_count": 23,
   "metadata": {},
   "outputs": [
    {
     "name": "stdout",
     "output_type": "stream",
     "text": [
      "Player Object Created F 500\n",
      "Player Object Created M 400\n",
      "Player Object Created M 400\n",
      "Damage= 18 New Health= 382\n",
      "110 <<<ATTACKS>>> 100\n",
      "attack Succeded - results= 18 damage\n",
      "100 <<<ATTACKS>>> 100\n",
      "Attack Failed - Results=0 damage\n",
      "100 <<<ATTACKS>>> 100\n",
      "Attack Failed - Results=0 damage\n",
      "100 Healthy\n",
      "100 Healthy\n",
      "Damage= 12 New Health= 370\n",
      "100 <<<ATTACKS>>> 100\n",
      "attack Succeded - results= 12 damage\n",
      "100 Healthy\n",
      "100 Healthy\n",
      "Damage= 14 New Health= 486\n",
      "100 <<<ATTACKS>>> 110\n",
      "attack Succeded - results= 14 damage\n",
      "100 Healthy\n",
      "100 Healthy\n",
      "Damage= 19 New Health= 467\n",
      "100 <<<ATTACKS>>> 110\n",
      "attack Succeded - results= 19 damage\n",
      "100 Healthy\n",
      "100 Healthy\n",
      "110 <<<ATTACKS>>> 100\n",
      "Attack Failed - Results=0 damage\n",
      "110 Healthy\n",
      "110 Healthy\n",
      "110 <<<ATTACKS>>> 100\n",
      "Attack Failed - Results=0 damage\n",
      "110 Healthy\n",
      "110 Healthy\n"
     ]
    }
   ],
   "source": [
    "# Answer Exercise #7\n",
    "import random\n",
    "\n",
    "class Player:\n",
    "    def __init__(self,gender,name,defaultWeapon, credits,health):\n",
    "        self.gender=gender\n",
    "        self.health=health\n",
    "        self.name=name\n",
    "        self.defualtWeapon=defaultWeapon\n",
    "        self.credits=credits\n",
    "        print(\"Player Object Created\",self.gender,self.health)\n",
    "\n",
    "    def playerHurt(self,damage):\n",
    "        self.health=self.health-damage\n",
    "        print(\"Damage=\",damage,\"New Health=\",self.health)\n",
    "        \n",
    "    def isDead(self):\n",
    "        if self.health<=0:\n",
    "            return True\n",
    "        else:\n",
    "            return False\n",
    "        \n",
    "    def healthString(self):\n",
    "        if self.health >=80: \n",
    "            return \"Healthy\"\n",
    "        elif self.health >=70: \n",
    "            return \"stable\"\n",
    "        elif self.health >=60: \n",
    "            return \"weak\"\n",
    "        elif self.health >=0:\n",
    "            return \"critical\"\n",
    "        else: \n",
    "            return \"dead\"\n",
    "    \n",
    "    def attack(self,target):\n",
    "        if random.randint(1,2)==1:\n",
    "            h=random.randint(5,20)\n",
    "            target.playerHurt(h)\n",
    "            print(self.name,\"<<<ATTACKS>>>\", target.name)\n",
    "            print(\"attack Succeded - results=\",h,\"damage\")\n",
    "        else:\n",
    "            print(self.name,\"<<<ATTACKS>>>\", target.name)\n",
    "            print(\"Attack Failed - Results=0 damage\")\n",
    "\n",
    "        \n",
    "p1=Player(\"F\",110, \"mary\",\"sword\", 500)\n",
    "p2=Player(\"M\",100, \"Carlos\",\"lance\", 400)\n",
    "p3=Player(\"M\",100, \"Dan\",\"crossbow\", 400)\n",
    "p1.attack(p3)\n",
    "p2.attack(p3)\n",
    "players = [p1,p2,p3]\n",
    "\n",
    "for i in range(6):\n",
    "    m=random.sample(players,2)\n",
    "    a=m[0] #attacker\n",
    "    t=m[1] #target\n",
    "    a.attack(t)\n",
    "    print(a.name,a.healthString())\n",
    "    print(a.name,t.healthString())"
   ]
  },
  {
   "cell_type": "code",
   "execution_count": null,
   "metadata": {},
   "outputs": [],
   "source": []
  },
  {
   "cell_type": "markdown",
   "metadata": {},
   "source": [
    "Python has other dunder (double underscore) methods that affect how the object responds when used in a program.\n",
    "\n",
    "We will once again start with our a simple class shown below."
   ]
  },
  {
   "cell_type": "code",
   "execution_count": 24,
   "metadata": {},
   "outputs": [],
   "source": [
    "# Execute this cell\n",
    "\n",
    "class Player:\n",
    " def __init__(self,gender,health):\n",
    "    self.gender=gender\n",
    "    self.health=health\n",
    "\n"
   ]
  },
  {
   "cell_type": "code",
   "execution_count": null,
   "metadata": {},
   "outputs": [],
   "source": []
  },
  {
   "cell_type": "code",
   "execution_count": 25,
   "metadata": {},
   "outputs": [
    {
     "name": "stdout",
     "output_type": "stream",
     "text": [
      "<__main__.Player object at 0x00000128AC4A32D0>\n"
     ]
    }
   ],
   "source": [
    "# Now we create an instance of the Player object and then print it.\n",
    "\n",
    "p1=Player(\"F\",100)\n",
    "print(p1)"
   ]
  },
  {
   "cell_type": "code",
   "execution_count": null,
   "metadata": {},
   "outputs": [],
   "source": []
  },
  {
   "cell_type": "markdown",
   "metadata": {},
   "source": [
    "The output from the print function is not very meaningful\n",
    "\n",
    "However, we can tell Python how we wish the object to \n",
    "be printed by defining the dunder str method."
   ]
  },
  {
   "cell_type": "code",
   "execution_count": null,
   "metadata": {},
   "outputs": [],
   "source": []
  },
  {
   "cell_type": "code",
   "execution_count": 26,
   "metadata": {},
   "outputs": [],
   "source": [
    "class Player:\n",
    "    def __init__(self,gender,health):\n",
    "        self.gender=gender\n",
    "        self.health=health\n",
    "    def __str__(self):\n",
    "        return \"Player object: Health=\"+str(self.health)\n"
   ]
  },
  {
   "cell_type": "code",
   "execution_count": null,
   "metadata": {},
   "outputs": [],
   "source": [
    "p1=Player(\"F\",100)\n",
    "print(p1)"
   ]
  },
  {
   "cell_type": "code",
   "execution_count": null,
   "metadata": {},
   "outputs": [],
   "source": []
  },
  {
   "cell_type": "code",
   "execution_count": 27,
   "metadata": {},
   "outputs": [],
   "source": [
    "class Player:\n",
    "    def __init__(self,gender,health):\n",
    "        self.gender=gender\n",
    "        self.health=health\n",
    "    def __str__(self):\n",
    "        return \"Player object: Health=\"+str(self.health)\n"
   ]
  },
  {
   "cell_type": "code",
   "execution_count": null,
   "metadata": {},
   "outputs": [],
   "source": []
  },
  {
   "cell_type": "code",
   "execution_count": 28,
   "metadata": {},
   "outputs": [
    {
     "ename": "TypeError",
     "evalue": "object of type 'Player' has no len()",
     "output_type": "error",
     "traceback": [
      "\u001b[1;31m---------------------------------------------------------------------------\u001b[0m",
      "\u001b[1;31mTypeError\u001b[0m                                 Traceback (most recent call last)",
      "Cell \u001b[1;32mIn[28], line 1\u001b[0m\n\u001b[1;32m----> 1\u001b[0m \u001b[38;5;28mprint\u001b[39m(\u001b[38;5;28mlen\u001b[39m(p1))\n",
      "\u001b[1;31mTypeError\u001b[0m: object of type 'Player' has no len()"
     ]
    }
   ],
   "source": [
    "print(len(p1))  # this will generate an error"
   ]
  },
  {
   "cell_type": "code",
   "execution_count": null,
   "metadata": {},
   "outputs": [],
   "source": []
  },
  {
   "cell_type": "markdown",
   "metadata": {},
   "source": [
    "The __len__ dunder method determines the value returned when the len function is called."
   ]
  },
  {
   "cell_type": "code",
   "execution_count": 29,
   "metadata": {},
   "outputs": [],
   "source": [
    "class Player:\n",
    "    def __init__(self,gender,health):\n",
    "        self.gender=gender\n",
    "        self.health=health\n",
    "    def __str__(self):\n",
    "        return \"Player object: Health=\"+str(self.health)\n",
    "    def __len__(self):\n",
    "        return 10"
   ]
  },
  {
   "cell_type": "code",
   "execution_count": 30,
   "metadata": {},
   "outputs": [
    {
     "name": "stdout",
     "output_type": "stream",
     "text": [
      "10\n"
     ]
    }
   ],
   "source": [
    "p1=Player(\"F\",100)\n",
    "print(len(p1))"
   ]
  },
  {
   "cell_type": "code",
   "execution_count": null,
   "metadata": {},
   "outputs": [],
   "source": []
  },
  {
   "cell_type": "markdown",
   "metadata": {},
   "source": [
    "We can also control how object interact with mathematical operators."
   ]
  },
  {
   "cell_type": "code",
   "execution_count": 31,
   "metadata": {},
   "outputs": [
    {
     "ename": "TypeError",
     "evalue": "unsupported operand type(s) for +: 'Player' and 'Player'",
     "output_type": "error",
     "traceback": [
      "\u001b[1;31m---------------------------------------------------------------------------\u001b[0m",
      "\u001b[1;31mTypeError\u001b[0m                                 Traceback (most recent call last)",
      "Cell \u001b[1;32mIn[31], line 4\u001b[0m\n\u001b[0;32m      1\u001b[0m p1\u001b[38;5;241m=\u001b[39mPlayer(\u001b[38;5;124m\"\u001b[39m\u001b[38;5;124mF\u001b[39m\u001b[38;5;124m\"\u001b[39m,\u001b[38;5;241m100\u001b[39m)\n\u001b[0;32m      2\u001b[0m p2\u001b[38;5;241m=\u001b[39mPlayer(\u001b[38;5;124m\"\u001b[39m\u001b[38;5;124mM\u001b[39m\u001b[38;5;124m\"\u001b[39m,\u001b[38;5;241m90\u001b[39m)\n\u001b[1;32m----> 4\u001b[0m \u001b[38;5;28mprint\u001b[39m(p1\u001b[38;5;241m+\u001b[39mp2)\n",
      "\u001b[1;31mTypeError\u001b[0m: unsupported operand type(s) for +: 'Player' and 'Player'"
     ]
    }
   ],
   "source": [
    "p1=Player(\"F\",100)\n",
    "p2=Player(\"M\",90)\n",
    "\n",
    "print(p1+p2) # this will cause an error\n"
   ]
  },
  {
   "cell_type": "code",
   "execution_count": null,
   "metadata": {},
   "outputs": [],
   "source": []
  },
  {
   "cell_type": "code",
   "execution_count": 32,
   "metadata": {},
   "outputs": [],
   "source": [
    "class Player:\n",
    "    def __init__(self,gender,health,name):\n",
    "        self.gender=gender\n",
    "        self.health=health\n",
    "        self.name=name\n",
    "    def __str__(self):\n",
    "        return \"Player object: Health=\"+str(self.health)\n",
    "    def __len__(self):\n",
    "        return 10\n",
    "    def __add__(self, otherObj):\n",
    "        return self.name+\" is now married to \"+otherObj.name"
   ]
  },
  {
   "cell_type": "code",
   "execution_count": 33,
   "metadata": {},
   "outputs": [
    {
     "name": "stdout",
     "output_type": "stream",
     "text": [
      "Carla is now married to Bob\n"
     ]
    }
   ],
   "source": [
    "p1=Player(\"F\",100,\"Carla\")\n",
    "p2=Player(\"M\",90,\"Bob\")\n",
    "print(p1+p2)"
   ]
  },
  {
   "cell_type": "code",
   "execution_count": null,
   "metadata": {},
   "outputs": [],
   "source": []
  }
 ],
 "metadata": {
  "kernelspec": {
   "display_name": "Python 3 (ipykernel)",
   "language": "python",
   "name": "python3"
  },
  "language_info": {
   "codemirror_mode": {
    "name": "ipython",
    "version": 3
   },
   "file_extension": ".py",
   "mimetype": "text/x-python",
   "name": "python",
   "nbconvert_exporter": "python",
   "pygments_lexer": "ipython3",
   "version": "3.11.4"
  }
 },
 "nbformat": 4,
 "nbformat_minor": 2
}
